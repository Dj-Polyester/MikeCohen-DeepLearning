{
 "cells": [
  {
   "cell_type": "code",
   "execution_count": 1,
   "metadata": {},
   "outputs": [
    {
     "name": "stdout",
     "output_type": "stream",
     "text": [
      "[1, 4, 9]\n"
     ]
    }
   ],
   "source": [
    "from tmp2 import f\n",
    "import os\n",
    "import multiprocessing as mp\n",
    "\n",
    "\n",
    "mp.set_start_method(\"spawn\")\n",
    "with mp.Pool(os.cpu_count()) as p:\n",
    "    print(p.map(f, [1, 2, 3]))\n"
   ]
  }
 ],
 "metadata": {
  "kernelspec": {
   "display_name": "Python 3.10.5 ('datascience')",
   "language": "python",
   "name": "python3"
  },
  "language_info": {
   "codemirror_mode": {
    "name": "ipython",
    "version": 3
   },
   "file_extension": ".py",
   "mimetype": "text/x-python",
   "name": "python",
   "nbconvert_exporter": "python",
   "pygments_lexer": "ipython3",
   "version": "3.10.5"
  },
  "orig_nbformat": 4,
  "vscode": {
   "interpreter": {
    "hash": "35e756a73fced7604de0846138dbd2729bf77c54ea1471d9ad302cb6526e59eb"
   }
  }
 },
 "nbformat": 4,
 "nbformat_minor": 2
}
