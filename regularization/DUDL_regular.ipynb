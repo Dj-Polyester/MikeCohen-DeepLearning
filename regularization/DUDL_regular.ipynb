{
 "cells": [
  {
   "cell_type": "code",
   "execution_count": 1,
   "metadata": {},
   "outputs": [
    {
     "name": "stderr",
     "output_type": "stream",
     "text": [
      "/tmp/ipykernel_2988/2120876513.py:9: DeprecationWarning: `set_matplotlib_formats` is deprecated since IPython 7.23, directly use `matplotlib_inline.backend_inline.set_matplotlib_formats()`\n",
      "  display.set_matplotlib_formats('svg')\n"
     ]
    }
   ],
   "source": [
    "# import libraries\n",
    "import torch\n",
    "import torch.nn as nn\n",
    "import torch.nn.functional as F\n",
    "\n",
    "import numpy as np\n",
    "import matplotlib.pyplot as plt\n",
    "from IPython import display\n",
    "display.set_matplotlib_formats('svg')\n",
    "\n",
    "from sklearn.model_selection import train_test_split\n",
    "from torch.utils.data import DataLoader,TensorDataset"
   ]
  },
  {
   "cell_type": "code",
   "execution_count": 2,
   "metadata": {},
   "outputs": [],
   "source": [
    "# create data\n",
    "\n",
    "nPerClust = 75\n",
    "\n",
    "th = np.linspace(0,4*np.pi,nPerClust)\n",
    "r1 = 10\n",
    "r2 = 15\n",
    "\n",
    "# generate data\n",
    "a = [ r1*np.cos(th) + np.random.randn(nPerClust)*3 ,\n",
    "      r1*np.sin(th) + np.random.randn(nPerClust) ]\n",
    "b = [ r2*np.cos(th) + np.random.randn(nPerClust) ,\n",
    "      r2*np.sin(th) + np.random.randn(nPerClust)*3 ]\n",
    "\n",
    "# true labels\n",
    "labels_np = np.vstack((np.zeros((nPerClust,1)),np.ones((nPerClust,1))))\n",
    "\n",
    "# concatanate into a matrix\n",
    "data_np = np.hstack((a,b)).T\n",
    "\n",
    "# convert to a pytorch tensor\n",
    "data = torch.tensor(data_np).float()\n",
    "labels = torch.tensor(labels_np).float()"
   ]
  },
  {
   "cell_type": "code",
   "execution_count": 3,
   "metadata": {},
   "outputs": [],
   "source": [
    "data = torch.tensor([[ 1.0172e+01, -7.9788e-01],\n",
    "        [ 7.8981e+00,  9.3607e-01],\n",
    "        [ 9.4174e+00,  3.1220e+00],\n",
    "        [ 2.6646e+00,  5.9819e+00],\n",
    "        [ 1.0006e+01,  4.7549e+00],\n",
    "        [ 8.2393e+00,  6.6634e+00],\n",
    "        [ 2.5807e+00,  9.9903e+00],\n",
    "        [ 1.0097e+01,  9.2281e+00],\n",
    "        [ 3.5558e+00,  9.6610e+00],\n",
    "        [-4.3114e-01,  8.1730e+00],\n",
    "        [-2.2222e+00,  8.7570e+00],\n",
    "        [ 1.0412e+00,  1.0106e+01],\n",
    "        [-3.8713e+00,  9.8365e+00],\n",
    "        [-7.4575e+00,  8.1438e+00],\n",
    "        [-4.9681e+00,  6.1742e+00],\n",
    "        [-4.6311e+00,  3.0771e+00],\n",
    "        [-8.4369e+00,  4.1159e+00],\n",
    "        [-9.1596e+00,  3.6197e+00],\n",
    "        [-8.7724e+00,  3.9337e-01],\n",
    "        [-1.0796e+01, -3.0584e+00],\n",
    "        [-1.0282e+01, -3.2442e+00],\n",
    "        [-7.9629e+00, -3.6032e+00],\n",
    "        [-8.4018e+00, -5.5507e+00],\n",
    "        [-3.6718e+00, -6.5719e+00],\n",
    "        [-1.0354e+01, -7.4682e+00],\n",
    "        [-1.8315e+00, -9.4919e+00],\n",
    "        [-4.2573e+00, -9.3266e+00],\n",
    "        [-3.8302e-01, -9.2698e+00],\n",
    "        [ 1.1976e-02, -9.6077e+00],\n",
    "        [-7.5183e-01, -8.6731e+00],\n",
    "        [ 8.2167e-01, -1.0688e+01],\n",
    "        [ 5.4129e+00, -7.3720e+00],\n",
    "        [ 6.9006e+00, -8.7815e+00],\n",
    "        [ 8.6377e+00, -6.7181e+00],\n",
    "        [ 6.5724e+00, -4.0233e+00],\n",
    "        [ 1.0984e+01, -3.0427e+00],\n",
    "        [ 1.4314e+01,  2.0810e-01],\n",
    "        [ 6.8482e+00, -1.0142e+00],\n",
    "        [ 6.2086e+00,  1.6045e+00],\n",
    "        [ 6.9081e+00,  4.5799e+00],\n",
    "        [ 6.2353e+00,  5.4795e+00],\n",
    "        [ 1.0258e+01,  7.4759e+00],\n",
    "        [ 5.6436e+00,  8.9746e+00],\n",
    "        [ 6.0020e+00,  9.0119e+00],\n",
    "        [ 3.3563e+00,  1.0009e+01],\n",
    "        [-8.6429e-01,  9.6787e+00],\n",
    "        [ 5.0715e+00,  9.0854e+00],\n",
    "        [ 2.5393e+00,  1.0592e+01],\n",
    "        [ 2.4440e+00,  9.1244e+00],\n",
    "        [-6.2037e+00,  1.0785e+01],\n",
    "        [-5.6938e+00,  7.0386e+00],\n",
    "        [-1.2767e+01,  7.0521e+00],\n",
    "        [-8.1617e+00,  6.5515e+00],\n",
    "        [-4.0561e+00,  5.0544e+00],\n",
    "        [-1.1854e+01,  3.0950e+00],\n",
    "        [-1.0687e+01,  2.0124e+00],\n",
    "        [-9.7305e+00, -9.9134e-01],\n",
    "        [-4.9153e+00, -4.1639e+00],\n",
    "        [-1.0765e+01, -2.4494e+00],\n",
    "        [-6.9761e-01, -5.3167e+00],\n",
    "        [-6.4447e+00, -7.1072e+00],\n",
    "        [-3.5215e+00, -7.6817e+00],\n",
    "        [ 1.9674e-02, -8.3113e+00],\n",
    "        [-9.0444e-01, -8.5869e+00],\n",
    "        [-2.5158e+00, -8.4141e+00],\n",
    "        [-1.1720e+00, -7.9251e+00],\n",
    "        [ 2.0575e+00, -1.1307e+01],\n",
    "        [ 3.6461e+00, -9.3353e+00],\n",
    "        [ 6.7279e+00, -7.6654e+00],\n",
    "        [ 3.2176e+00, -5.5135e+00],\n",
    "        [ 1.1042e+01, -5.6386e+00],\n",
    "        [ 7.8202e+00, -3.7658e+00],\n",
    "        [ 1.4336e+01, -1.9612e+00],\n",
    "        [ 7.2453e+00, -2.4607e+00],\n",
    "        [ 9.3939e+00,  9.4974e-02],\n",
    "        [ 1.5870e+01, -1.2381e-01],\n",
    "        [ 1.4079e+01, -1.7890e-01],\n",
    "        [ 1.3260e+01,  7.8844e+00],\n",
    "        [ 1.3486e+01,  8.8606e+00],\n",
    "        [ 1.2409e+01,  9.6412e+00],\n",
    "        [ 9.4248e+00,  1.5271e+01],\n",
    "        [ 7.8594e+00,  1.4257e+01],\n",
    "        [ 5.7650e+00,  1.2301e+01],\n",
    "        [ 2.1581e+00,  1.5934e+01],\n",
    "        [ 2.8853e+00,  1.3583e+01],\n",
    "        [-1.8414e+00,  1.2844e+01],\n",
    "        [-5.7178e+00,  1.8437e+01],\n",
    "        [-8.3677e+00,  9.6759e+00],\n",
    "        [-9.9547e+00,  1.3470e+01],\n",
    "        [-9.8145e+00,  9.0208e+00],\n",
    "        [-1.1502e+01,  8.6088e+00],\n",
    "        [-1.3432e+01,  7.1873e+00],\n",
    "        [-1.6285e+01,  3.7495e+00],\n",
    "        [-1.4250e+01,  8.4297e+00],\n",
    "        [-1.5573e+01, -7.9192e-02],\n",
    "        [-1.1970e+01, -1.8171e+00],\n",
    "        [-1.5028e+01, -1.2362e+01],\n",
    "        [-1.3141e+01, -7.1406e+00],\n",
    "        [-9.8368e+00, -5.0295e+00],\n",
    "        [-8.6025e+00, -1.4519e+01],\n",
    "        [-5.9734e+00, -8.1074e+00],\n",
    "        [-3.9344e+00, -1.1407e+01],\n",
    "        [-1.9953e+00, -1.5285e+01],\n",
    "        [ 1.5423e+00, -1.6474e+01],\n",
    "        [ 1.6030e+00, -1.7970e+01],\n",
    "        [ 4.6529e+00, -1.3188e+01],\n",
    "        [ 7.6763e+00, -1.7641e+01],\n",
    "        [ 9.4449e+00, -1.8130e+01],\n",
    "        [ 1.3369e+01, -9.8741e+00],\n",
    "        [ 1.1559e+01, -6.0726e+00],\n",
    "        [ 1.5373e+01, -6.0427e+00],\n",
    "        [ 1.4584e+01, -1.8746e+00],\n",
    "        [ 1.4377e+01,  3.2912e+00],\n",
    "        [ 1.4209e+01, -4.0850e+00],\n",
    "        [ 1.4763e+01,  6.1281e-01],\n",
    "        [ 1.5023e+01,  4.8942e+00],\n",
    "        [ 1.2369e+01,  1.2397e+01],\n",
    "        [ 1.0720e+01,  6.3008e+00],\n",
    "        [ 7.2347e+00,  1.0268e+01],\n",
    "        [ 5.6541e+00,  1.6197e+01],\n",
    "        [ 1.8024e+00,  1.3299e+01],\n",
    "        [-1.2668e+00,  1.4097e+01],\n",
    "        [-3.7264e+00,  1.5163e+01],\n",
    "        [-5.0738e+00,  8.4331e+00],\n",
    "        [-8.0152e+00,  1.6116e+01],\n",
    "        [-1.1388e+01,  1.1108e+01],\n",
    "        [-1.0095e+01,  8.9915e+00],\n",
    "        [-1.2404e+01,  9.6339e+00],\n",
    "        [-1.3190e+01,  6.9729e+00],\n",
    "        [-1.4566e+01,  1.0057e+01],\n",
    "        [-1.5276e+01,  3.5595e+00],\n",
    "        [-1.4815e+01,  2.0336e+00],\n",
    "        [-1.4204e+01, -3.9623e+00],\n",
    "        [-1.3177e+01, -1.2061e+01],\n",
    "        [-1.1142e+01, -1.0343e+01],\n",
    "        [-1.0790e+01, -8.9482e+00],\n",
    "        [-1.0424e+01, -1.3984e+01],\n",
    "        [-7.1116e+00, -1.3940e+01],\n",
    "        [-3.9284e+00, -1.2849e+01],\n",
    "        [-1.7479e+00, -1.3574e+01],\n",
    "        [ 1.4725e+00, -1.2542e+01],\n",
    "        [ 2.5899e+00, -1.0896e+01],\n",
    "        [ 5.0626e+00, -1.4246e+01],\n",
    "        [ 6.9487e+00, -1.2757e+01],\n",
    "        [ 8.6518e+00, -1.2980e+01],\n",
    "        [ 1.0697e+01, -8.4937e+00],\n",
    "        [ 1.2938e+01, -1.3919e+01],\n",
    "        [ 1.4198e+01, -5.0566e+00],\n",
    "        [ 1.3957e+01,  1.8582e-01],\n",
    "        [ 1.5250e+01, -6.0532e-01]])"
   ]
  },
  {
   "cell_type": "code",
   "execution_count": 4,
   "metadata": {},
   "outputs": [
    {
     "data": {
      "image/svg+xml": "<?xml version=\"1.0\" encoding=\"utf-8\" standalone=\"no\"?>\n<!DOCTYPE svg PUBLIC \"-//W3C//DTD SVG 1.1//EN\"\n  \"http://www.w3.org/Graphics/SVG/1.1/DTD/svg11.dtd\">\n<svg xmlns:xlink=\"http://www.w3.org/1999/xlink\" width=\"335.182812pt\" height=\"337.074375pt\" viewBox=\"0 0 335.182812 337.074375\" xmlns=\"http://www.w3.org/2000/svg\" version=\"1.1\">\n <metadata>\n  <rdf:RDF xmlns:dc=\"http://purl.org/dc/elements/1.1/\" xmlns:cc=\"http://creativecommons.org/ns#\" xmlns:rdf=\"http://www.w3.org/1999/02/22-rdf-syntax-ns#\">\n   <cc:Work>\n    <dc:type rdf:resource=\"http://purl.org/dc/dcmitype/StillImage\"/>\n    <dc:date>2022-10-23T23:48:04.043458</dc:date>\n    <dc:format>image/svg+xml</dc:format>\n    <dc:creator>\n     <cc:Agent>\n      <dc:title>Matplotlib v3.6.0, https://matplotlib.org/</dc:title>\n     </cc:Agent>\n    </dc:creator>\n   </cc:Work>\n  </rdf:RDF>\n </metadata>\n <defs>\n  <style type=\"text/css\">*{stroke-linejoin: round; stroke-linecap: butt}</style>\n </defs>\n <g id=\"figure_1\">\n  <g id=\"patch_1\">\n   <path d=\"M 0 337.074375 \nL 335.182812 337.074375 \nL 335.182812 0 \nL 0 0 \nz\n\" style=\"fill: #ffffff\"/>\n  </g>\n  <g id=\"axes_1\">\n   <g id=\"patch_2\">\n    <path d=\"M 48.982813 299.518125 \nL 327.982813 299.518125 \nL 327.982813 22.318125 \nL 48.982813 22.318125 \nz\n\" style=\"fill: #ffffff\"/>\n   </g>\n   <g id=\"matplotlib.axis_1\">\n    <g id=\"xtick_1\">\n     <g id=\"line2d_1\">\n      <defs>\n       <path id=\"m4b765e0b40\" d=\"M 0 0 \nL 0 3.5 \n\" style=\"stroke: #000000; stroke-width: 0.8\"/>\n      </defs>\n      <g>\n       <use xlink:href=\"#m4b765e0b40\" x=\"71.800619\" y=\"299.518125\" style=\"stroke: #000000; stroke-width: 0.8\"/>\n      </g>\n     </g>\n     <g id=\"text_1\">\n      <!-- −15 -->\n      <g transform=\"translate(61.248275 314.116563) scale(0.1 -0.1)\">\n       <defs>\n        <path id=\"DejaVuSans-2212\" d=\"M 678 2272 \nL 4684 2272 \nL 4684 1741 \nL 678 1741 \nL 678 2272 \nz\n\" transform=\"scale(0.015625)\"/>\n        <path id=\"DejaVuSans-31\" d=\"M 794 531 \nL 1825 531 \nL 1825 4091 \nL 703 3866 \nL 703 4441 \nL 1819 4666 \nL 2450 4666 \nL 2450 531 \nL 3481 531 \nL 3481 0 \nL 794 0 \nL 794 531 \nz\n\" transform=\"scale(0.015625)\"/>\n        <path id=\"DejaVuSans-35\" d=\"M 691 4666 \nL 3169 4666 \nL 3169 4134 \nL 1269 4134 \nL 1269 2991 \nQ 1406 3038 1543 3061 \nQ 1681 3084 1819 3084 \nQ 2600 3084 3056 2656 \nQ 3513 2228 3513 1497 \nQ 3513 744 3044 326 \nQ 2575 -91 1722 -91 \nQ 1428 -91 1123 -41 \nQ 819 9 494 109 \nL 494 744 \nQ 775 591 1075 516 \nQ 1375 441 1709 441 \nQ 2250 441 2565 725 \nQ 2881 1009 2881 1497 \nQ 2881 1984 2565 2268 \nQ 2250 2553 1709 2553 \nQ 1456 2553 1204 2497 \nQ 953 2441 691 2322 \nL 691 4666 \nz\n\" transform=\"scale(0.015625)\"/>\n       </defs>\n       <use xlink:href=\"#DejaVuSans-2212\"/>\n       <use xlink:href=\"#DejaVuSans-31\" x=\"83.789062\"/>\n       <use xlink:href=\"#DejaVuSans-35\" x=\"147.412109\"/>\n      </g>\n     </g>\n    </g>\n    <g id=\"xtick_2\">\n     <g id=\"line2d_2\">\n      <g>\n       <use xlink:href=\"#m4b765e0b40\" x=\"111.240265\" y=\"299.518125\" style=\"stroke: #000000; stroke-width: 0.8\"/>\n      </g>\n     </g>\n     <g id=\"text_2\">\n      <!-- −10 -->\n      <g transform=\"translate(100.687921 314.116563) scale(0.1 -0.1)\">\n       <defs>\n        <path id=\"DejaVuSans-30\" d=\"M 2034 4250 \nQ 1547 4250 1301 3770 \nQ 1056 3291 1056 2328 \nQ 1056 1369 1301 889 \nQ 1547 409 2034 409 \nQ 2525 409 2770 889 \nQ 3016 1369 3016 2328 \nQ 3016 3291 2770 3770 \nQ 2525 4250 2034 4250 \nz\nM 2034 4750 \nQ 2819 4750 3233 4129 \nQ 3647 3509 3647 2328 \nQ 3647 1150 3233 529 \nQ 2819 -91 2034 -91 \nQ 1250 -91 836 529 \nQ 422 1150 422 2328 \nQ 422 3509 836 4129 \nQ 1250 4750 2034 4750 \nz\n\" transform=\"scale(0.015625)\"/>\n       </defs>\n       <use xlink:href=\"#DejaVuSans-2212\"/>\n       <use xlink:href=\"#DejaVuSans-31\" x=\"83.789062\"/>\n       <use xlink:href=\"#DejaVuSans-30\" x=\"147.412109\"/>\n      </g>\n     </g>\n    </g>\n    <g id=\"xtick_3\">\n     <g id=\"line2d_3\">\n      <g>\n       <use xlink:href=\"#m4b765e0b40\" x=\"150.679911\" y=\"299.518125\" style=\"stroke: #000000; stroke-width: 0.8\"/>\n      </g>\n     </g>\n     <g id=\"text_3\">\n      <!-- −5 -->\n      <g transform=\"translate(143.308818 314.116563) scale(0.1 -0.1)\">\n       <use xlink:href=\"#DejaVuSans-2212\"/>\n       <use xlink:href=\"#DejaVuSans-35\" x=\"83.789062\"/>\n      </g>\n     </g>\n    </g>\n    <g id=\"xtick_4\">\n     <g id=\"line2d_4\">\n      <g>\n       <use xlink:href=\"#m4b765e0b40\" x=\"190.119558\" y=\"299.518125\" style=\"stroke: #000000; stroke-width: 0.8\"/>\n      </g>\n     </g>\n     <g id=\"text_4\">\n      <!-- 0 -->\n      <g transform=\"translate(186.938308 314.116563) scale(0.1 -0.1)\">\n       <use xlink:href=\"#DejaVuSans-30\"/>\n      </g>\n     </g>\n    </g>\n    <g id=\"xtick_5\">\n     <g id=\"line2d_5\">\n      <g>\n       <use xlink:href=\"#m4b765e0b40\" x=\"229.559204\" y=\"299.518125\" style=\"stroke: #000000; stroke-width: 0.8\"/>\n      </g>\n     </g>\n     <g id=\"text_5\">\n      <!-- 5 -->\n      <g transform=\"translate(226.377954 314.116563) scale(0.1 -0.1)\">\n       <use xlink:href=\"#DejaVuSans-35\"/>\n      </g>\n     </g>\n    </g>\n    <g id=\"xtick_6\">\n     <g id=\"line2d_6\">\n      <g>\n       <use xlink:href=\"#m4b765e0b40\" x=\"268.99885\" y=\"299.518125\" style=\"stroke: #000000; stroke-width: 0.8\"/>\n      </g>\n     </g>\n     <g id=\"text_6\">\n      <!-- 10 -->\n      <g transform=\"translate(262.63635 314.116563) scale(0.1 -0.1)\">\n       <use xlink:href=\"#DejaVuSans-31\"/>\n       <use xlink:href=\"#DejaVuSans-30\" x=\"63.623047\"/>\n      </g>\n     </g>\n    </g>\n    <g id=\"xtick_7\">\n     <g id=\"line2d_7\">\n      <g>\n       <use xlink:href=\"#m4b765e0b40\" x=\"308.438497\" y=\"299.518125\" style=\"stroke: #000000; stroke-width: 0.8\"/>\n      </g>\n     </g>\n     <g id=\"text_7\">\n      <!-- 15 -->\n      <g transform=\"translate(302.075997 314.116563) scale(0.1 -0.1)\">\n       <use xlink:href=\"#DejaVuSans-31\"/>\n       <use xlink:href=\"#DejaVuSans-35\" x=\"63.623047\"/>\n      </g>\n     </g>\n    </g>\n    <g id=\"text_8\">\n     <!-- qwerty dimension 1 -->\n     <g transform=\"translate(138.907813 327.794688) scale(0.1 -0.1)\">\n      <defs>\n       <path id=\"DejaVuSans-71\" d=\"M 947 1747 \nQ 947 1113 1208 752 \nQ 1469 391 1925 391 \nQ 2381 391 2643 752 \nQ 2906 1113 2906 1747 \nQ 2906 2381 2643 2742 \nQ 2381 3103 1925 3103 \nQ 1469 3103 1208 2742 \nQ 947 2381 947 1747 \nz\nM 2906 525 \nQ 2725 213 2448 61 \nQ 2172 -91 1784 -91 \nQ 1150 -91 751 415 \nQ 353 922 353 1747 \nQ 353 2572 751 3078 \nQ 1150 3584 1784 3584 \nQ 2172 3584 2448 3432 \nQ 2725 3281 2906 2969 \nL 2906 3500 \nL 3481 3500 \nL 3481 -1331 \nL 2906 -1331 \nL 2906 525 \nz\n\" transform=\"scale(0.015625)\"/>\n       <path id=\"DejaVuSans-77\" d=\"M 269 3500 \nL 844 3500 \nL 1563 769 \nL 2278 3500 \nL 2956 3500 \nL 3675 769 \nL 4391 3500 \nL 4966 3500 \nL 4050 0 \nL 3372 0 \nL 2619 2869 \nL 1863 0 \nL 1184 0 \nL 269 3500 \nz\n\" transform=\"scale(0.015625)\"/>\n       <path id=\"DejaVuSans-65\" d=\"M 3597 1894 \nL 3597 1613 \nL 953 1613 \nQ 991 1019 1311 708 \nQ 1631 397 2203 397 \nQ 2534 397 2845 478 \nQ 3156 559 3463 722 \nL 3463 178 \nQ 3153 47 2828 -22 \nQ 2503 -91 2169 -91 \nQ 1331 -91 842 396 \nQ 353 884 353 1716 \nQ 353 2575 817 3079 \nQ 1281 3584 2069 3584 \nQ 2775 3584 3186 3129 \nQ 3597 2675 3597 1894 \nz\nM 3022 2063 \nQ 3016 2534 2758 2815 \nQ 2500 3097 2075 3097 \nQ 1594 3097 1305 2825 \nQ 1016 2553 972 2059 \nL 3022 2063 \nz\n\" transform=\"scale(0.015625)\"/>\n       <path id=\"DejaVuSans-72\" d=\"M 2631 2963 \nQ 2534 3019 2420 3045 \nQ 2306 3072 2169 3072 \nQ 1681 3072 1420 2755 \nQ 1159 2438 1159 1844 \nL 1159 0 \nL 581 0 \nL 581 3500 \nL 1159 3500 \nL 1159 2956 \nQ 1341 3275 1631 3429 \nQ 1922 3584 2338 3584 \nQ 2397 3584 2469 3576 \nQ 2541 3569 2628 3553 \nL 2631 2963 \nz\n\" transform=\"scale(0.015625)\"/>\n       <path id=\"DejaVuSans-74\" d=\"M 1172 4494 \nL 1172 3500 \nL 2356 3500 \nL 2356 3053 \nL 1172 3053 \nL 1172 1153 \nQ 1172 725 1289 603 \nQ 1406 481 1766 481 \nL 2356 481 \nL 2356 0 \nL 1766 0 \nQ 1100 0 847 248 \nQ 594 497 594 1153 \nL 594 3053 \nL 172 3053 \nL 172 3500 \nL 594 3500 \nL 594 4494 \nL 1172 4494 \nz\n\" transform=\"scale(0.015625)\"/>\n       <path id=\"DejaVuSans-79\" d=\"M 2059 -325 \nQ 1816 -950 1584 -1140 \nQ 1353 -1331 966 -1331 \nL 506 -1331 \nL 506 -850 \nL 844 -850 \nQ 1081 -850 1212 -737 \nQ 1344 -625 1503 -206 \nL 1606 56 \nL 191 3500 \nL 800 3500 \nL 1894 763 \nL 2988 3500 \nL 3597 3500 \nL 2059 -325 \nz\n\" transform=\"scale(0.015625)\"/>\n       <path id=\"DejaVuSans-20\" transform=\"scale(0.015625)\"/>\n       <path id=\"DejaVuSans-64\" d=\"M 2906 2969 \nL 2906 4863 \nL 3481 4863 \nL 3481 0 \nL 2906 0 \nL 2906 525 \nQ 2725 213 2448 61 \nQ 2172 -91 1784 -91 \nQ 1150 -91 751 415 \nQ 353 922 353 1747 \nQ 353 2572 751 3078 \nQ 1150 3584 1784 3584 \nQ 2172 3584 2448 3432 \nQ 2725 3281 2906 2969 \nz\nM 947 1747 \nQ 947 1113 1208 752 \nQ 1469 391 1925 391 \nQ 2381 391 2643 752 \nQ 2906 1113 2906 1747 \nQ 2906 2381 2643 2742 \nQ 2381 3103 1925 3103 \nQ 1469 3103 1208 2742 \nQ 947 2381 947 1747 \nz\n\" transform=\"scale(0.015625)\"/>\n       <path id=\"DejaVuSans-69\" d=\"M 603 3500 \nL 1178 3500 \nL 1178 0 \nL 603 0 \nL 603 3500 \nz\nM 603 4863 \nL 1178 4863 \nL 1178 4134 \nL 603 4134 \nL 603 4863 \nz\n\" transform=\"scale(0.015625)\"/>\n       <path id=\"DejaVuSans-6d\" d=\"M 3328 2828 \nQ 3544 3216 3844 3400 \nQ 4144 3584 4550 3584 \nQ 5097 3584 5394 3201 \nQ 5691 2819 5691 2113 \nL 5691 0 \nL 5113 0 \nL 5113 2094 \nQ 5113 2597 4934 2840 \nQ 4756 3084 4391 3084 \nQ 3944 3084 3684 2787 \nQ 3425 2491 3425 1978 \nL 3425 0 \nL 2847 0 \nL 2847 2094 \nQ 2847 2600 2669 2842 \nQ 2491 3084 2119 3084 \nQ 1678 3084 1418 2786 \nQ 1159 2488 1159 1978 \nL 1159 0 \nL 581 0 \nL 581 3500 \nL 1159 3500 \nL 1159 2956 \nQ 1356 3278 1631 3431 \nQ 1906 3584 2284 3584 \nQ 2666 3584 2933 3390 \nQ 3200 3197 3328 2828 \nz\n\" transform=\"scale(0.015625)\"/>\n       <path id=\"DejaVuSans-6e\" d=\"M 3513 2113 \nL 3513 0 \nL 2938 0 \nL 2938 2094 \nQ 2938 2591 2744 2837 \nQ 2550 3084 2163 3084 \nQ 1697 3084 1428 2787 \nQ 1159 2491 1159 1978 \nL 1159 0 \nL 581 0 \nL 581 3500 \nL 1159 3500 \nL 1159 2956 \nQ 1366 3272 1645 3428 \nQ 1925 3584 2291 3584 \nQ 2894 3584 3203 3211 \nQ 3513 2838 3513 2113 \nz\n\" transform=\"scale(0.015625)\"/>\n       <path id=\"DejaVuSans-73\" d=\"M 2834 3397 \nL 2834 2853 \nQ 2591 2978 2328 3040 \nQ 2066 3103 1784 3103 \nQ 1356 3103 1142 2972 \nQ 928 2841 928 2578 \nQ 928 2378 1081 2264 \nQ 1234 2150 1697 2047 \nL 1894 2003 \nQ 2506 1872 2764 1633 \nQ 3022 1394 3022 966 \nQ 3022 478 2636 193 \nQ 2250 -91 1575 -91 \nQ 1294 -91 989 -36 \nQ 684 19 347 128 \nL 347 722 \nQ 666 556 975 473 \nQ 1284 391 1588 391 \nQ 1994 391 2212 530 \nQ 2431 669 2431 922 \nQ 2431 1156 2273 1281 \nQ 2116 1406 1581 1522 \nL 1381 1569 \nQ 847 1681 609 1914 \nQ 372 2147 372 2553 \nQ 372 3047 722 3315 \nQ 1072 3584 1716 3584 \nQ 2034 3584 2315 3537 \nQ 2597 3491 2834 3397 \nz\n\" transform=\"scale(0.015625)\"/>\n       <path id=\"DejaVuSans-6f\" d=\"M 1959 3097 \nQ 1497 3097 1228 2736 \nQ 959 2375 959 1747 \nQ 959 1119 1226 758 \nQ 1494 397 1959 397 \nQ 2419 397 2687 759 \nQ 2956 1122 2956 1747 \nQ 2956 2369 2687 2733 \nQ 2419 3097 1959 3097 \nz\nM 1959 3584 \nQ 2709 3584 3137 3096 \nQ 3566 2609 3566 1747 \nQ 3566 888 3137 398 \nQ 2709 -91 1959 -91 \nQ 1206 -91 779 398 \nQ 353 888 353 1747 \nQ 353 2609 779 3096 \nQ 1206 3584 1959 3584 \nz\n\" transform=\"scale(0.015625)\"/>\n      </defs>\n      <use xlink:href=\"#DejaVuSans-71\"/>\n      <use xlink:href=\"#DejaVuSans-77\" x=\"63.476562\"/>\n      <use xlink:href=\"#DejaVuSans-65\" x=\"145.263672\"/>\n      <use xlink:href=\"#DejaVuSans-72\" x=\"206.787109\"/>\n      <use xlink:href=\"#DejaVuSans-74\" x=\"247.900391\"/>\n      <use xlink:href=\"#DejaVuSans-79\" x=\"287.109375\"/>\n      <use xlink:href=\"#DejaVuSans-20\" x=\"346.289062\"/>\n      <use xlink:href=\"#DejaVuSans-64\" x=\"378.076172\"/>\n      <use xlink:href=\"#DejaVuSans-69\" x=\"441.552734\"/>\n      <use xlink:href=\"#DejaVuSans-6d\" x=\"469.335938\"/>\n      <use xlink:href=\"#DejaVuSans-65\" x=\"566.748047\"/>\n      <use xlink:href=\"#DejaVuSans-6e\" x=\"628.271484\"/>\n      <use xlink:href=\"#DejaVuSans-73\" x=\"691.650391\"/>\n      <use xlink:href=\"#DejaVuSans-69\" x=\"743.75\"/>\n      <use xlink:href=\"#DejaVuSans-6f\" x=\"771.533203\"/>\n      <use xlink:href=\"#DejaVuSans-6e\" x=\"832.714844\"/>\n      <use xlink:href=\"#DejaVuSans-20\" x=\"896.09375\"/>\n      <use xlink:href=\"#DejaVuSans-31\" x=\"927.880859\"/>\n     </g>\n    </g>\n   </g>\n   <g id=\"matplotlib.axis_2\">\n    <g id=\"ytick_1\">\n     <g id=\"line2d_8\">\n      <defs>\n       <path id=\"mb5b138f2a2\" d=\"M 0 0 \nL -3.5 0 \n\" style=\"stroke: #000000; stroke-width: 0.8\"/>\n      </defs>\n      <g>\n       <use xlink:href=\"#mb5b138f2a2\" x=\"48.982813\" y=\"265.347862\" style=\"stroke: #000000; stroke-width: 0.8\"/>\n      </g>\n     </g>\n     <g id=\"text_9\">\n      <!-- −15 -->\n      <g transform=\"translate(20.878125 269.147081) scale(0.1 -0.1)\">\n       <use xlink:href=\"#DejaVuSans-2212\"/>\n       <use xlink:href=\"#DejaVuSans-31\" x=\"83.789062\"/>\n       <use xlink:href=\"#DejaVuSans-35\" x=\"147.412109\"/>\n      </g>\n     </g>\n    </g>\n    <g id=\"ytick_2\">\n     <g id=\"line2d_9\">\n      <g>\n       <use xlink:href=\"#mb5b138f2a2\" x=\"48.982813\" y=\"230.890564\" style=\"stroke: #000000; stroke-width: 0.8\"/>\n      </g>\n     </g>\n     <g id=\"text_10\">\n      <!-- −10 -->\n      <g transform=\"translate(20.878125 234.689783) scale(0.1 -0.1)\">\n       <use xlink:href=\"#DejaVuSans-2212\"/>\n       <use xlink:href=\"#DejaVuSans-31\" x=\"83.789062\"/>\n       <use xlink:href=\"#DejaVuSans-30\" x=\"147.412109\"/>\n      </g>\n     </g>\n    </g>\n    <g id=\"ytick_3\">\n     <g id=\"line2d_10\">\n      <g>\n       <use xlink:href=\"#mb5b138f2a2\" x=\"48.982813\" y=\"196.433266\" style=\"stroke: #000000; stroke-width: 0.8\"/>\n      </g>\n     </g>\n     <g id=\"text_11\">\n      <!-- −5 -->\n      <g transform=\"translate(27.240625 200.232485) scale(0.1 -0.1)\">\n       <use xlink:href=\"#DejaVuSans-2212\"/>\n       <use xlink:href=\"#DejaVuSans-35\" x=\"83.789062\"/>\n      </g>\n     </g>\n    </g>\n    <g id=\"ytick_4\">\n     <g id=\"line2d_11\">\n      <g>\n       <use xlink:href=\"#mb5b138f2a2\" x=\"48.982813\" y=\"161.975968\" style=\"stroke: #000000; stroke-width: 0.8\"/>\n      </g>\n     </g>\n     <g id=\"text_12\">\n      <!-- 0 -->\n      <g transform=\"translate(35.620313 165.775187) scale(0.1 -0.1)\">\n       <use xlink:href=\"#DejaVuSans-30\"/>\n      </g>\n     </g>\n    </g>\n    <g id=\"ytick_5\">\n     <g id=\"line2d_12\">\n      <g>\n       <use xlink:href=\"#mb5b138f2a2\" x=\"48.982813\" y=\"127.51867\" style=\"stroke: #000000; stroke-width: 0.8\"/>\n      </g>\n     </g>\n     <g id=\"text_13\">\n      <!-- 5 -->\n      <g transform=\"translate(35.620313 131.317889) scale(0.1 -0.1)\">\n       <use xlink:href=\"#DejaVuSans-35\"/>\n      </g>\n     </g>\n    </g>\n    <g id=\"ytick_6\">\n     <g id=\"line2d_13\">\n      <g>\n       <use xlink:href=\"#mb5b138f2a2\" x=\"48.982813\" y=\"93.061372\" style=\"stroke: #000000; stroke-width: 0.8\"/>\n      </g>\n     </g>\n     <g id=\"text_14\">\n      <!-- 10 -->\n      <g transform=\"translate(29.257813 96.86059) scale(0.1 -0.1)\">\n       <use xlink:href=\"#DejaVuSans-31\"/>\n       <use xlink:href=\"#DejaVuSans-30\" x=\"63.623047\"/>\n      </g>\n     </g>\n    </g>\n    <g id=\"ytick_7\">\n     <g id=\"line2d_14\">\n      <g>\n       <use xlink:href=\"#mb5b138f2a2\" x=\"48.982813\" y=\"58.604074\" style=\"stroke: #000000; stroke-width: 0.8\"/>\n      </g>\n     </g>\n     <g id=\"text_15\">\n      <!-- 15 -->\n      <g transform=\"translate(29.257813 62.403292) scale(0.1 -0.1)\">\n       <use xlink:href=\"#DejaVuSans-31\"/>\n       <use xlink:href=\"#DejaVuSans-35\" x=\"63.623047\"/>\n      </g>\n     </g>\n    </g>\n    <g id=\"ytick_8\">\n     <g id=\"line2d_15\">\n      <g>\n       <use xlink:href=\"#mb5b138f2a2\" x=\"48.982813\" y=\"24.146776\" style=\"stroke: #000000; stroke-width: 0.8\"/>\n      </g>\n     </g>\n     <g id=\"text_16\">\n      <!-- 20 -->\n      <g transform=\"translate(29.257813 27.945994) scale(0.1 -0.1)\">\n       <defs>\n        <path id=\"DejaVuSans-32\" d=\"M 1228 531 \nL 3431 531 \nL 3431 0 \nL 469 0 \nL 469 531 \nQ 828 903 1448 1529 \nQ 2069 2156 2228 2338 \nQ 2531 2678 2651 2914 \nQ 2772 3150 2772 3378 \nQ 2772 3750 2511 3984 \nQ 2250 4219 1831 4219 \nQ 1534 4219 1204 4116 \nQ 875 4013 500 3803 \nL 500 4441 \nQ 881 4594 1212 4672 \nQ 1544 4750 1819 4750 \nQ 2544 4750 2975 4387 \nQ 3406 4025 3406 3419 \nQ 3406 3131 3298 2873 \nQ 3191 2616 2906 2266 \nQ 2828 2175 2409 1742 \nQ 1991 1309 1228 531 \nz\n\" transform=\"scale(0.015625)\"/>\n       </defs>\n       <use xlink:href=\"#DejaVuSans-32\"/>\n       <use xlink:href=\"#DejaVuSans-30\" x=\"63.623047\"/>\n      </g>\n     </g>\n    </g>\n    <g id=\"text_17\">\n     <!-- qwerty dimension 2 -->\n     <g transform=\"translate(14.798438 210.493125) rotate(-90) scale(0.1 -0.1)\">\n      <use xlink:href=\"#DejaVuSans-71\"/>\n      <use xlink:href=\"#DejaVuSans-77\" x=\"63.476562\"/>\n      <use xlink:href=\"#DejaVuSans-65\" x=\"145.263672\"/>\n      <use xlink:href=\"#DejaVuSans-72\" x=\"206.787109\"/>\n      <use xlink:href=\"#DejaVuSans-74\" x=\"247.900391\"/>\n      <use xlink:href=\"#DejaVuSans-79\" x=\"287.109375\"/>\n      <use xlink:href=\"#DejaVuSans-20\" x=\"346.289062\"/>\n      <use xlink:href=\"#DejaVuSans-64\" x=\"378.076172\"/>\n      <use xlink:href=\"#DejaVuSans-69\" x=\"441.552734\"/>\n      <use xlink:href=\"#DejaVuSans-6d\" x=\"469.335938\"/>\n      <use xlink:href=\"#DejaVuSans-65\" x=\"566.748047\"/>\n      <use xlink:href=\"#DejaVuSans-6e\" x=\"628.271484\"/>\n      <use xlink:href=\"#DejaVuSans-73\" x=\"691.650391\"/>\n      <use xlink:href=\"#DejaVuSans-69\" x=\"743.75\"/>\n      <use xlink:href=\"#DejaVuSans-6f\" x=\"771.533203\"/>\n      <use xlink:href=\"#DejaVuSans-6e\" x=\"832.714844\"/>\n      <use xlink:href=\"#DejaVuSans-20\" x=\"896.09375\"/>\n      <use xlink:href=\"#DejaVuSans-32\" x=\"927.880859\"/>\n     </g>\n    </g>\n   </g>\n   <g id=\"line2d_16\">\n    <defs>\n     <path id=\"mc19240f421\" d=\"M -3 3 \nL 3 3 \nL 3 -3 \nL -3 -3 \nz\n\" style=\"stroke: #0000ff; stroke-linejoin: miter\"/>\n    </defs>\n    <g clip-path=\"url(#pf8bcfa0703)\">\n     <use xlink:href=\"#mc19240f421\" x=\"270.355574\" y=\"167.474526\" style=\"fill: #0000ff; stroke: #0000ff; stroke-linejoin: miter\"/>\n     <use xlink:href=\"#mc19240f421\" x=\"252.419211\" y=\"155.525079\" style=\"fill: #0000ff; stroke: #0000ff; stroke-linejoin: miter\"/>\n     <use xlink:href=\"#mc19240f421\" x=\"264.403346\" y=\"140.460831\" style=\"fill: #0000ff; stroke: #0000ff; stroke-linejoin: miter\"/>\n     <use xlink:href=\"#mc19240f421\" x=\"211.137733\" y=\"120.751944\" style=\"fill: #0000ff; stroke: #0000ff; stroke-linejoin: miter\"/>\n     <use xlink:href=\"#mc19240f421\" x=\"269.046175\" y=\"129.207767\" style=\"fill: #0000ff; stroke: #0000ff; stroke-linejoin: miter\"/>\n     <use xlink:href=\"#mc19240f421\" x=\"255.110572\" y=\"116.055415\" style=\"fill: #0000ff; stroke: #0000ff; stroke-linejoin: miter\"/>\n     <use xlink:href=\"#mc19240f421\" x=\"210.475936\" y=\"93.128218\" style=\"fill: #0000ff; stroke: #0000ff; stroke-linejoin: miter\"/>\n     <use xlink:href=\"#mc19240f421\" x=\"269.76398\" y=\"98.380891\" style=\"fill: #0000ff; stroke: #0000ff; stroke-linejoin: miter\"/>\n     <use xlink:href=\"#mc19240f421\" x=\"218.167456\" y=\"95.397575\" style=\"fill: #0000ff; stroke: #0000ff; stroke-linejoin: miter\"/>\n     <use xlink:href=\"#mc19240f421\" x=\"186.718756\" y=\"105.652066\" style=\"fill: #0000ff; stroke: #0000ff; stroke-linejoin: miter\"/>\n     <use xlink:href=\"#mc19240f421\" x=\"172.591002\" y=\"101.627456\" style=\"fill: #0000ff; stroke: #0000ff; stroke-linejoin: miter\"/>\n     <use xlink:href=\"#mc19240f421\" x=\"198.33247\" y=\"92.330877\" style=\"fill: #0000ff; stroke: #0000ff; stroke-linejoin: miter\"/>\n     <use xlink:href=\"#mc19240f421\" x=\"159.583017\" y=\"94.188124\" style=\"fill: #0000ff; stroke: #0000ff; stroke-linejoin: miter\"/>\n     <use xlink:href=\"#mc19240f421\" x=\"131.295325\" y=\"105.853301\" style=\"fill: #0000ff; stroke: #0000ff; stroke-linejoin: miter\"/>\n     <use xlink:href=\"#mc19240f421\" x=\"150.931536\" y=\"119.426718\" style=\"fill: #0000ff; stroke: #0000ff; stroke-linejoin: miter\"/>\n     <use xlink:href=\"#mc19240f421\" x=\"153.589767\" y=\"140.770257\" style=\"fill: #0000ff; stroke: #0000ff; stroke-linejoin: miter\"/>\n     <use xlink:href=\"#mc19240f421\" x=\"123.569886\" y=\"133.611409\" style=\"fill: #0000ff; stroke: #0000ff; stroke-linejoin: miter\"/>\n     <use xlink:href=\"#mc19240f421\" x=\"117.869279\" y=\"137.030952\" style=\"fill: #0000ff; stroke: #0000ff; stroke-linejoin: miter\"/>\n     <use xlink:href=\"#mc19240f421\" x=\"120.923488\" y=\"159.265074\" style=\"fill: #0000ff; stroke: #0000ff; stroke-linejoin: miter\"/>\n     <use xlink:href=\"#mc19240f421\" x=\"104.961477\" y=\"183.052807\" style=\"fill: #0000ff; stroke: #0000ff; stroke-linejoin: miter\"/>\n     <use xlink:href=\"#mc19240f421\" x=\"109.015872\" y=\"184.333241\" style=\"fill: #0000ff; stroke: #0000ff; stroke-linejoin: miter\"/>\n     <use xlink:href=\"#mc19240f421\" x=\"127.308764\" y=\"186.807275\" style=\"fill: #0000ff; stroke: #0000ff; stroke-linejoin: miter\"/>\n     <use xlink:href=\"#mc19240f421\" x=\"123.846752\" y=\"200.228394\" style=\"fill: #0000ff; stroke: #0000ff; stroke-linejoin: miter\"/>\n     <use xlink:href=\"#mc19240f421\" x=\"161.15666\" y=\"207.265951\" style=\"fill: #0000ff; stroke: #0000ff; stroke-linejoin: miter\"/>\n     <use xlink:href=\"#mc19240f421\" x=\"108.447937\" y=\"213.442768\" style=\"fill: #0000ff; stroke: #0000ff; stroke-linejoin: miter\"/>\n     <use xlink:href=\"#mc19240f421\" x=\"175.672815\" y=\"227.389017\" style=\"fill: #0000ff; stroke: #0000ff; stroke-linejoin: miter\"/>\n     <use xlink:href=\"#mc19240f421\" x=\"156.538277\" y=\"226.249856\" style=\"fill: #0000ff; stroke: #0000ff; stroke-linejoin: miter\"/>\n     <use xlink:href=\"#mc19240f421\" x=\"187.098323\" y=\"225.858422\" style=\"fill: #0000ff; stroke: #0000ff; stroke-linejoin: miter\"/>\n     <use xlink:href=\"#mc19240f421\" x=\"190.214024\" y=\"228.187047\" style=\"fill: #0000ff; stroke: #0000ff; stroke-linejoin: miter\"/>\n     <use xlink:href=\"#mc19240f421\" x=\"184.189176\" y=\"221.74629\" style=\"fill: #0000ff; stroke: #0000ff; stroke-linejoin: miter\"/>\n     <use xlink:href=\"#mc19240f421\" x=\"196.600832\" y=\"235.631886\" style=\"fill: #0000ff; stroke: #0000ff; stroke-linejoin: miter\"/>\n     <use xlink:href=\"#mc19240f421\" x=\"232.81613\" y=\"212.77981\" style=\"fill: #0000ff; stroke: #0000ff; stroke-linejoin: miter\"/>\n     <use xlink:href=\"#mc19240f421\" x=\"244.551002\" y=\"222.49332\" style=\"fill: #0000ff; stroke: #0000ff; stroke-linejoin: miter\"/>\n     <use xlink:href=\"#mc19240f421\" x=\"258.253125\" y=\"208.273483\" style=\"fill: #0000ff; stroke: #0000ff; stroke-linejoin: miter\"/>\n     <use xlink:href=\"#mc19240f421\" x=\"241.962185\" y=\"189.702379\" style=\"fill: #0000ff; stroke: #0000ff; stroke-linejoin: miter\"/>\n     <use xlink:href=\"#mc19240f421\" x=\"276.760574\" y=\"182.944612\" style=\"fill: #0000ff; stroke: #0000ff; stroke-linejoin: miter\"/>\n     <use xlink:href=\"#mc19240f421\" x=\"303.027378\" y=\"160.541855\" style=\"fill: #0000ff; stroke: #0000ff; stroke-linejoin: miter\"/>\n     <use xlink:href=\"#mc19240f421\" x=\"244.137674\" y=\"168.965286\" style=\"fill: #0000ff; stroke: #0000ff; stroke-linejoin: miter\"/>\n     <use xlink:href=\"#mc19240f421\" x=\"239.092556\" y=\"150.918621\" style=\"fill: #0000ff; stroke: #0000ff; stroke-linejoin: miter\"/>\n     <use xlink:href=\"#mc19240f421\" x=\"244.610163\" y=\"130.413773\" style=\"fill: #0000ff; stroke: #0000ff; stroke-linejoin: miter\"/>\n     <use xlink:href=\"#mc19240f421\" x=\"239.303164\" y=\"124.214216\" style=\"fill: #0000ff; stroke: #0000ff; stroke-linejoin: miter\"/>\n     <use xlink:href=\"#mc19240f421\" x=\"271.033939\" y=\"110.456104\" style=\"fill: #0000ff; stroke: #0000ff; stroke-linejoin: miter\"/>\n     <use xlink:href=\"#mc19240f421\" x=\"234.635875\" y=\"100.127876\" style=\"fill: #0000ff; stroke: #0000ff; stroke-linejoin: miter\"/>\n     <use xlink:href=\"#mc19240f421\" x=\"237.462908\" y=\"99.870823\" style=\"fill: #0000ff; stroke: #0000ff; stroke-linejoin: miter\"/>\n     <use xlink:href=\"#mc19240f421\" x=\"216.593816\" y=\"92.99935\" style=\"fill: #0000ff; stroke: #0000ff; stroke-linejoin: miter\"/>\n     <use xlink:href=\"#mc19240f421\" x=\"183.302099\" y=\"95.275595\" style=\"fill: #0000ff; stroke: #0000ff; stroke-linejoin: miter\"/>\n     <use xlink:href=\"#mc19240f421\" x=\"230.12319\" y=\"99.364303\" style=\"fill: #0000ff; stroke: #0000ff; stroke-linejoin: miter\"/>\n     <use xlink:href=\"#mc19240f421\" x=\"210.149376\" y=\"88.981628\" style=\"fill: #0000ff; stroke: #0000ff; stroke-linejoin: miter\"/>\n     <use xlink:href=\"#mc19240f421\" x=\"209.397657\" y=\"99.095533\" style=\"fill: #0000ff; stroke: #0000ff; stroke-linejoin: miter\"/>\n     <use xlink:href=\"#mc19240f421\" x=\"141.18521\" y=\"87.651577\" style=\"fill: #0000ff; stroke: #0000ff; stroke-linejoin: miter\"/>\n     <use xlink:href=\"#mc19240f421\" x=\"145.207266\" y=\"113.46974\" style=\"fill: #0000ff; stroke: #0000ff; stroke-linejoin: miter\"/>\n     <use xlink:href=\"#mc19240f421\" x=\"89.414363\" y=\"113.376704\" style=\"fill: #0000ff; stroke: #0000ff; stroke-linejoin: miter\"/>\n     <use xlink:href=\"#mc19240f421\" x=\"125.740643\" y=\"116.826571\" style=\"fill: #0000ff; stroke: #0000ff; stroke-linejoin: miter\"/>\n     <use xlink:href=\"#mc19240f421\" x=\"158.125329\" y=\"127.143775\" style=\"fill: #0000ff; stroke: #0000ff; stroke-linejoin: miter\"/>\n     <use xlink:href=\"#mc19240f421\" x=\"96.616043\" y=\"140.6469\" style=\"fill: #0000ff; stroke: #0000ff; stroke-linejoin: miter\"/>\n     <use xlink:href=\"#mc19240f421\" x=\"105.821255\" y=\"148.107595\" style=\"fill: #0000ff; stroke: #0000ff; stroke-linejoin: miter\"/>\n     <use xlink:href=\"#mc19240f421\" x=\"113.36606\" y=\"168.807747\" style=\"fill: #0000ff; stroke: #0000ff; stroke-linejoin: miter\"/>\n     <use xlink:href=\"#mc19240f421\" x=\"151.34802\" y=\"190.671316\" style=\"fill: #0000ff; stroke: #0000ff; stroke-linejoin: miter\"/>\n     <use xlink:href=\"#mc19240f421\" x=\"105.205996\" y=\"178.855909\" style=\"fill: #0000ff; stroke: #0000ff; stroke-linejoin: miter\"/>\n     <use xlink:href=\"#mc19240f421\" x=\"184.616859\" y=\"198.615791\" style=\"fill: #0000ff; stroke: #0000ff; stroke-linejoin: miter\"/>\n     <use xlink:href=\"#mc19240f421\" x=\"139.284222\" y=\"210.954951\" style=\"fill: #0000ff; stroke: #0000ff; stroke-linejoin: miter\"/>\n     <use xlink:href=\"#mc19240f421\" x=\"162.342214\" y=\"214.914095\" style=\"fill: #0000ff; stroke: #0000ff; stroke-linejoin: miter\"/>\n     <use xlink:href=\"#mc19240f421\" x=\"190.274745\" y=\"219.252958\" style=\"fill: #0000ff; stroke: #0000ff; stroke-linejoin: miter\"/>\n     <use xlink:href=\"#mc19240f421\" x=\"182.985399\" y=\"221.152241\" style=\"fill: #0000ff; stroke: #0000ff; stroke-linejoin: miter\"/>\n     <use xlink:href=\"#mc19240f421\" x=\"170.275105\" y=\"219.961396\" style=\"fill: #0000ff; stroke: #0000ff; stroke-linejoin: miter\"/>\n     <use xlink:href=\"#mc19240f421\" x=\"180.874904\" y=\"216.591473\" style=\"fill: #0000ff; stroke: #0000ff; stroke-linejoin: miter\"/>\n     <use xlink:href=\"#mc19240f421\" x=\"206.348971\" y=\"239.897703\" style=\"fill: #0000ff; stroke: #0000ff; stroke-linejoin: miter\"/>\n     <use xlink:href=\"#mc19240f421\" x=\"218.879737\" y=\"226.309814\" style=\"fill: #0000ff; stroke: #0000ff; stroke-linejoin: miter\"/>\n     <use xlink:href=\"#mc19240f421\" x=\"243.188757\" y=\"214.801763\" style=\"fill: #0000ff; stroke: #0000ff; stroke-linejoin: miter\"/>\n     <use xlink:href=\"#mc19240f421\" x=\"215.49976\" y=\"199.972032\" style=\"fill: #0000ff; stroke: #0000ff; stroke-linejoin: miter\"/>\n     <use xlink:href=\"#mc19240f421\" x=\"277.218071\" y=\"200.834151\" style=\"fill: #0000ff; stroke: #0000ff; stroke-linejoin: miter\"/>\n     <use xlink:href=\"#mc19240f421\" x=\"251.804742\" y=\"187.927827\" style=\"fill: #0000ff; stroke: #0000ff; stroke-linejoin: miter\"/>\n     <use xlink:href=\"#mc19240f421\" x=\"303.200915\" y=\"175.491498\" style=\"fill: #0000ff; stroke: #0000ff; stroke-linejoin: miter\"/>\n     <use xlink:href=\"#mc19240f421\" x=\"247.26997\" y=\"178.933783\" style=\"fill: #0000ff; stroke: #0000ff; stroke-linejoin: miter\"/>\n     <use xlink:href=\"#mc19240f421\" x=\"264.217976\" y=\"161.321458\" style=\"fill: #0000ff; stroke: #0000ff; stroke-linejoin: miter\"/>\n    </g>\n   </g>\n   <g id=\"line2d_17\">\n    <defs>\n     <path id=\"m1f103119bc\" d=\"M 0 3 \nC 0.795609 3 1.55874 2.683901 2.12132 2.12132 \nC 2.683901 1.55874 3 0.795609 3 0 \nC 3 -0.795609 2.683901 -1.55874 2.12132 -2.12132 \nC 1.55874 -2.683901 0.795609 -3 0 -3 \nC -0.795609 -3 -1.55874 -2.683901 -2.12132 -2.12132 \nC -2.683901 -1.55874 -3 -0.795609 -3 0 \nC -3 0.795609 -2.683901 1.55874 -2.12132 2.12132 \nC -1.55874 2.683901 -0.795609 3 0 3 \nz\n\" style=\"stroke: #000000\"/>\n    </defs>\n    <g clip-path=\"url(#pf8bcfa0703)\">\n     <use xlink:href=\"#m1f103119bc\" x=\"315.300994\" y=\"162.8292\" style=\"stroke: #000000\"/>\n     <use xlink:href=\"#m1f103119bc\" x=\"301.173718\" y=\"163.20885\" style=\"stroke: #000000\"/>\n     <use xlink:href=\"#m1f103119bc\" x=\"294.713502\" y=\"107.640944\" style=\"stroke: #000000\"/>\n     <use xlink:href=\"#m1f103119bc\" x=\"296.496172\" y=\"100.913498\" style=\"stroke: #000000\"/>\n     <use xlink:href=\"#m1f103119bc\" x=\"288.000875\" y=\"95.534027\" style=\"stroke: #000000\"/>\n     <use xlink:href=\"#m1f103119bc\" x=\"264.461713\" y=\"56.736489\" style=\"stroke: #000000\"/>\n     <use xlink:href=\"#m1f103119bc\" x=\"252.113947\" y=\"63.724428\" style=\"stroke: #000000\"/>\n     <use xlink:href=\"#m1f103119bc\" x=\"235.593469\" y=\"77.204126\" style=\"stroke: #000000\"/>\n     <use xlink:href=\"#m1f103119bc\" x=\"207.142497\" y=\"52.16745\" style=\"stroke: #000000\"/>\n     <use xlink:href=\"#m1f103119bc\" x=\"212.878599\" y=\"68.369271\" style=\"stroke: #000000\"/>\n     <use xlink:href=\"#m1f103119bc\" x=\"175.594724\" y=\"73.462061\" style=\"stroke: #000000\"/>\n     <use xlink:href=\"#m1f103119bc\" x=\"145.017955\" y=\"34.918125\" style=\"stroke: #000000\"/>\n     <use xlink:href=\"#m1f103119bc\" x=\"124.115735\" y=\"95.294891\" style=\"stroke: #000000\"/>\n     <use xlink:href=\"#m1f103119bc\" x=\"111.597584\" y=\"69.148005\" style=\"stroke: #000000\"/>\n     <use xlink:href=\"#m1f103119bc\" x=\"112.703477\" y=\"99.809491\" style=\"stroke: #000000\"/>\n     <use xlink:href=\"#m1f103119bc\" x=\"99.392596\" y=\"102.648771\" style=\"stroke: #000000\"/>\n     <use xlink:href=\"#m1f103119bc\" x=\"84.16889\" y=\"112.444979\" style=\"stroke: #000000\"/>\n     <use xlink:href=\"#m1f103119bc\" x=\"61.664631\" y=\"136.13644\" style=\"stroke: #000000\"/>\n     <use xlink:href=\"#m1f103119bc\" x=\"77.716566\" y=\"103.883031\" style=\"stroke: #000000\"/>\n     <use xlink:href=\"#m1f103119bc\" x=\"67.280835\" y=\"162.521716\" style=\"stroke: #000000\"/>\n     <use xlink:href=\"#m1f103119bc\" x=\"95.701042\" y=\"174.498439\" style=\"stroke: #000000\"/>\n     <use xlink:href=\"#m1f103119bc\" x=\"71.579758\" y=\"247.168195\" style=\"stroke: #000000\"/>\n     <use xlink:href=\"#m1f103119bc\" x=\"86.464281\" y=\"211.185126\" style=\"stroke: #000000\"/>\n     <use xlink:href=\"#m1f103119bc\" x=\"112.527578\" y=\"196.636564\" style=\"stroke: #000000\"/>\n     <use xlink:href=\"#m1f103119bc\" x=\"122.263646\" y=\"262.03307\" style=\"stroke: #000000\"/>\n     <use xlink:href=\"#m1f103119bc\" x=\"143.0018\" y=\"217.847787\" style=\"stroke: #000000\"/>\n     <use xlink:href=\"#m1f103119bc\" x=\"159.085288\" y=\"240.586845\" style=\"stroke: #000000\"/>\n     <use xlink:href=\"#m1f103119bc\" x=\"174.380772\" y=\"267.311927\" style=\"stroke: #000000\"/>\n     <use xlink:href=\"#m1f103119bc\" x=\"202.285111\" y=\"275.50588\" style=\"stroke: #000000\"/>\n     <use xlink:href=\"#m1f103119bc\" x=\"202.763909\" y=\"285.815493\" style=\"stroke: #000000\"/>\n     <use xlink:href=\"#m1f103119bc\" x=\"226.821306\" y=\"252.860535\" style=\"stroke: #000000\"/>\n     <use xlink:href=\"#m1f103119bc\" x=\"250.66967\" y=\"283.548212\" style=\"stroke: #000000\"/>\n     <use xlink:href=\"#m1f103119bc\" x=\"264.620257\" y=\"286.918125\" style=\"stroke: #000000\"/>\n     <use xlink:href=\"#m1f103119bc\" x=\"295.573288\" y=\"230.022927\" style=\"stroke: #000000\"/>\n     <use xlink:href=\"#m1f103119bc\" x=\"281.296132\" y=\"203.825045\" style=\"stroke: #000000\"/>\n     <use xlink:href=\"#m1f103119bc\" x=\"311.380696\" y=\"203.61899\" style=\"stroke: #000000\"/>\n     <use xlink:href=\"#m1f103119bc\" x=\"305.157115\" y=\"174.894698\" style=\"stroke: #000000\"/>\n     <use xlink:href=\"#m1f103119bc\" x=\"303.524316\" y=\"139.294797\" style=\"stroke: #000000\"/>\n     <use xlink:href=\"#m1f103119bc\" x=\"302.199142\" y=\"190.127581\" style=\"stroke: #000000\"/>\n     <use xlink:href=\"#m1f103119bc\" x=\"306.569054\" y=\"157.752812\" style=\"stroke: #000000\"/>\n     <use xlink:href=\"#m1f103119bc\" x=\"308.619917\" y=\"128.247787\" style=\"stroke: #000000\"/>\n     <use xlink:href=\"#m1f103119bc\" x=\"287.685358\" y=\"76.542541\" style=\"stroke: #000000\"/>\n     <use xlink:href=\"#m1f103119bc\" x=\"274.678162\" y=\"118.55426\" style=\"stroke: #000000\"/>\n     <use xlink:href=\"#m1f103119bc\" x=\"247.186361\" y=\"91.214463\" style=\"stroke: #000000\"/>\n     <use xlink:href=\"#m1f103119bc\" x=\"234.718698\" y=\"50.354993\" style=\"stroke: #000000\"/>\n     <use xlink:href=\"#m1f103119bc\" x=\"204.336761\" y=\"70.326448\" style=\"stroke: #000000\"/>\n     <use xlink:href=\"#m1f103119bc\" x=\"180.127129\" y=\"64.827061\" style=\"stroke: #000000\"/>\n     <use xlink:href=\"#m1f103119bc\" x=\"160.725979\" y=\"57.480765\" style=\"stroke: #000000\"/>\n     <use xlink:href=\"#m1f103119bc\" x=\"150.097781\" y=\"103.859602\" style=\"stroke: #000000\"/>\n     <use xlink:href=\"#m1f103119bc\" x=\"126.89623\" y=\"50.91321\" style=\"stroke: #000000\"/>\n     <use xlink:href=\"#m1f103119bc\" x=\"100.291823\" y=\"85.425636\" style=\"stroke: #000000\"/>\n     <use xlink:href=\"#m1f103119bc\" x=\"110.49091\" y=\"100.011409\" style=\"stroke: #000000\"/>\n     <use xlink:href=\"#m1f103119bc\" x=\"92.277681\" y=\"95.584337\" style=\"stroke: #000000\"/>\n     <use xlink:href=\"#m1f103119bc\" x=\"86.077774\" y=\"113.92251\" style=\"stroke: #000000\"/>\n     <use xlink:href=\"#m1f103119bc\" x=\"75.22398\" y=\"92.668557\" style=\"stroke: #000000\"/>\n     <use xlink:href=\"#m1f103119bc\" x=\"69.62355\" y=\"137.445818\" style=\"stroke: #000000\"/>\n     <use xlink:href=\"#m1f103119bc\" x=\"73.259889\" y=\"147.961495\" style=\"stroke: #000000\"/>\n     <use xlink:href=\"#m1f103119bc\" x=\"78.079407\" y=\"189.281999\" style=\"stroke: #000000\"/>\n     <use xlink:href=\"#m1f103119bc\" x=\"86.180313\" y=\"245.093861\" style=\"stroke: #000000\"/>\n     <use xlink:href=\"#m1f103119bc\" x=\"102.232248\" y=\"233.254338\" style=\"stroke: #000000\"/>\n     <use xlink:href=\"#m1f103119bc\" x=\"105.008801\" y=\"223.642128\" style=\"stroke: #000000\"/>\n     <use xlink:href=\"#m1f103119bc\" x=\"107.895785\" y=\"258.346141\" style=\"stroke: #000000\"/>\n     <use xlink:href=\"#m1f103119bc\" x=\"134.02376\" y=\"258.042912\" style=\"stroke: #000000\"/>\n     <use xlink:href=\"#m1f103119bc\" x=\"159.132616\" y=\"250.524332\" style=\"stroke: #000000\"/>\n     <use xlink:href=\"#m1f103119bc\" x=\"176.332246\" y=\"255.520643\" style=\"stroke: #000000\"/>\n     <use xlink:href=\"#m1f103119bc\" x=\"201.734533\" y=\"248.408653\" style=\"stroke: #000000\"/>\n     <use xlink:href=\"#m1f103119bc\" x=\"210.548506\" y=\"237.065311\" style=\"stroke: #000000\"/>\n     <use xlink:href=\"#m1f103119bc\" x=\"230.052989\" y=\"260.151704\" style=\"stroke: #000000\"/>\n     <use xlink:href=\"#m1f103119bc\" x=\"244.930411\" y=\"249.890318\" style=\"stroke: #000000\"/>\n     <use xlink:href=\"#m1f103119bc\" x=\"258.364345\" y=\"251.427111\" style=\"stroke: #000000\"/>\n     <use xlink:href=\"#m1f103119bc\" x=\"274.496734\" y=\"220.509959\" style=\"stroke: #000000\"/>\n     <use xlink:href=\"#m1f103119bc\" x=\"292.173584\" y=\"257.898192\" style=\"stroke: #000000\"/>\n     <use xlink:href=\"#m1f103119bc\" x=\"302.112377\" y=\"196.823323\" style=\"stroke: #000000\"/>\n     <use xlink:href=\"#m1f103119bc\" x=\"300.211385\" y=\"160.695397\" style=\"stroke: #000000\"/>\n     <use xlink:href=\"#m1f103119bc\" x=\"310.410479\" y=\"166.147506\" style=\"stroke: #000000\"/>\n    </g>\n   </g>\n   <g id=\"patch_3\">\n    <path d=\"M 48.982813 299.518125 \nL 48.982813 22.318125 \n\" style=\"fill: none; stroke: #000000; stroke-width: 0.8; stroke-linejoin: miter; stroke-linecap: square\"/>\n   </g>\n   <g id=\"patch_4\">\n    <path d=\"M 327.982813 299.518125 \nL 327.982813 22.318125 \n\" style=\"fill: none; stroke: #000000; stroke-width: 0.8; stroke-linejoin: miter; stroke-linecap: square\"/>\n   </g>\n   <g id=\"patch_5\">\n    <path d=\"M 48.982813 299.518125 \nL 327.982813 299.518125 \n\" style=\"fill: none; stroke: #000000; stroke-width: 0.8; stroke-linejoin: miter; stroke-linecap: square\"/>\n   </g>\n   <g id=\"patch_6\">\n    <path d=\"M 48.982813 22.318125 \nL 327.982813 22.318125 \n\" style=\"fill: none; stroke: #000000; stroke-width: 0.8; stroke-linejoin: miter; stroke-linecap: square\"/>\n   </g>\n   <g id=\"text_18\">\n    <!-- The qwerties' doughnuts! -->\n    <g transform=\"translate(111.767188 16.318125) scale(0.12 -0.12)\">\n     <defs>\n      <path id=\"DejaVuSans-54\" d=\"M -19 4666 \nL 3928 4666 \nL 3928 4134 \nL 2272 4134 \nL 2272 0 \nL 1638 0 \nL 1638 4134 \nL -19 4134 \nL -19 4666 \nz\n\" transform=\"scale(0.015625)\"/>\n      <path id=\"DejaVuSans-68\" d=\"M 3513 2113 \nL 3513 0 \nL 2938 0 \nL 2938 2094 \nQ 2938 2591 2744 2837 \nQ 2550 3084 2163 3084 \nQ 1697 3084 1428 2787 \nQ 1159 2491 1159 1978 \nL 1159 0 \nL 581 0 \nL 581 4863 \nL 1159 4863 \nL 1159 2956 \nQ 1366 3272 1645 3428 \nQ 1925 3584 2291 3584 \nQ 2894 3584 3203 3211 \nQ 3513 2838 3513 2113 \nz\n\" transform=\"scale(0.015625)\"/>\n      <path id=\"DejaVuSans-27\" d=\"M 1147 4666 \nL 1147 2931 \nL 616 2931 \nL 616 4666 \nL 1147 4666 \nz\n\" transform=\"scale(0.015625)\"/>\n      <path id=\"DejaVuSans-75\" d=\"M 544 1381 \nL 544 3500 \nL 1119 3500 \nL 1119 1403 \nQ 1119 906 1312 657 \nQ 1506 409 1894 409 \nQ 2359 409 2629 706 \nQ 2900 1003 2900 1516 \nL 2900 3500 \nL 3475 3500 \nL 3475 0 \nL 2900 0 \nL 2900 538 \nQ 2691 219 2414 64 \nQ 2138 -91 1772 -91 \nQ 1169 -91 856 284 \nQ 544 659 544 1381 \nz\nM 1991 3584 \nL 1991 3584 \nz\n\" transform=\"scale(0.015625)\"/>\n      <path id=\"DejaVuSans-67\" d=\"M 2906 1791 \nQ 2906 2416 2648 2759 \nQ 2391 3103 1925 3103 \nQ 1463 3103 1205 2759 \nQ 947 2416 947 1791 \nQ 947 1169 1205 825 \nQ 1463 481 1925 481 \nQ 2391 481 2648 825 \nQ 2906 1169 2906 1791 \nz\nM 3481 434 \nQ 3481 -459 3084 -895 \nQ 2688 -1331 1869 -1331 \nQ 1566 -1331 1297 -1286 \nQ 1028 -1241 775 -1147 \nL 775 -588 \nQ 1028 -725 1275 -790 \nQ 1522 -856 1778 -856 \nQ 2344 -856 2625 -561 \nQ 2906 -266 2906 331 \nL 2906 616 \nQ 2728 306 2450 153 \nQ 2172 0 1784 0 \nQ 1141 0 747 490 \nQ 353 981 353 1791 \nQ 353 2603 747 3093 \nQ 1141 3584 1784 3584 \nQ 2172 3584 2450 3431 \nQ 2728 3278 2906 2969 \nL 2906 3500 \nL 3481 3500 \nL 3481 434 \nz\n\" transform=\"scale(0.015625)\"/>\n      <path id=\"DejaVuSans-21\" d=\"M 966 794 \nL 1600 794 \nL 1600 0 \nL 966 0 \nL 966 794 \nz\nM 966 4666 \nL 1600 4666 \nL 1600 2619 \nL 1538 1503 \nL 1031 1503 \nL 966 2619 \nL 966 4666 \nz\n\" transform=\"scale(0.015625)\"/>\n     </defs>\n     <use xlink:href=\"#DejaVuSans-54\"/>\n     <use xlink:href=\"#DejaVuSans-68\" x=\"61.083984\"/>\n     <use xlink:href=\"#DejaVuSans-65\" x=\"124.462891\"/>\n     <use xlink:href=\"#DejaVuSans-20\" x=\"185.986328\"/>\n     <use xlink:href=\"#DejaVuSans-71\" x=\"217.773438\"/>\n     <use xlink:href=\"#DejaVuSans-77\" x=\"281.25\"/>\n     <use xlink:href=\"#DejaVuSans-65\" x=\"363.037109\"/>\n     <use xlink:href=\"#DejaVuSans-72\" x=\"424.560547\"/>\n     <use xlink:href=\"#DejaVuSans-74\" x=\"465.673828\"/>\n     <use xlink:href=\"#DejaVuSans-69\" x=\"504.882812\"/>\n     <use xlink:href=\"#DejaVuSans-65\" x=\"532.666016\"/>\n     <use xlink:href=\"#DejaVuSans-73\" x=\"594.189453\"/>\n     <use xlink:href=\"#DejaVuSans-27\" x=\"646.289062\"/>\n     <use xlink:href=\"#DejaVuSans-20\" x=\"673.779297\"/>\n     <use xlink:href=\"#DejaVuSans-64\" x=\"705.566406\"/>\n     <use xlink:href=\"#DejaVuSans-6f\" x=\"769.042969\"/>\n     <use xlink:href=\"#DejaVuSans-75\" x=\"830.224609\"/>\n     <use xlink:href=\"#DejaVuSans-67\" x=\"893.603516\"/>\n     <use xlink:href=\"#DejaVuSans-68\" x=\"957.080078\"/>\n     <use xlink:href=\"#DejaVuSans-6e\" x=\"1020.458984\"/>\n     <use xlink:href=\"#DejaVuSans-75\" x=\"1083.837891\"/>\n     <use xlink:href=\"#DejaVuSans-74\" x=\"1147.216797\"/>\n     <use xlink:href=\"#DejaVuSans-73\" x=\"1186.425781\"/>\n     <use xlink:href=\"#DejaVuSans-21\" x=\"1238.525391\"/>\n    </g>\n   </g>\n  </g>\n </g>\n <defs>\n  <clipPath id=\"pf8bcfa0703\">\n   <rect x=\"48.982813\" y=\"22.318125\" width=\"279\" height=\"277.2\"/>\n  </clipPath>\n </defs>\n</svg>\n",
      "text/plain": [
       "<Figure size 500x500 with 1 Axes>"
      ]
     },
     "metadata": {},
     "output_type": "display_data"
    }
   ],
   "source": [
    "# show the data\n",
    "fig = plt.figure(figsize=(5,5))\n",
    "plt.plot(data[np.where(labels==0)[0],0],data[np.where(labels==0)[0],1],'bs')\n",
    "plt.plot(data[np.where(labels==1)[0],0],data[np.where(labels==1)[0],1],'ko')\n",
    "plt.title(\"The qwerties' doughnuts!\")\n",
    "plt.xlabel('qwerty dimension 1')\n",
    "plt.ylabel('qwerty dimension 2')\n",
    "plt.show()"
   ]
  },
  {
   "cell_type": "code",
   "execution_count": 5,
   "metadata": {},
   "outputs": [],
   "source": [
    "from torch import dropout\n",
    "\n",
    "\n",
    "class Classifier2dModel(nn.Module):\n",
    "    def __init__(self, _in, _out, depth=1, _params=None, dropout=False, dropoutRate=.5):\n",
    "        super().__init__()\n",
    "        self.dropout = dropout\n",
    "        self.dr = dropoutRate\n",
    "        self.layers = nn.ModuleList(\n",
    "            [nn.Linear(_in, _out)] if depth == 1 else [nn.Linear(_in, _params)] +\n",
    "            [nn.Linear(_params, _params)]*(depth-2) +\n",
    "            [nn.Linear(_params, _out)]\n",
    "        )\n",
    "\n",
    "    def forward(self, x):\n",
    "        for layer in self.layers[:-1]:\n",
    "            x = F.relu(layer(x))\n",
    "            if self.dropout:\n",
    "                x = F.dropout(x, p=self.dr,training=self.training)\n",
    "        return self.layers[-1](x)"
   ]
  },
  {
   "cell_type": "code",
   "execution_count": 6,
   "metadata": {},
   "outputs": [],
   "source": [
    "class Classifier2d():\n",
    "    def __init__(\n",
    "        self, \n",
    "        data,labels, \n",
    "        out=1,\n",
    "        lr=.01,  numepochs=500, depth=1, _params=None, train_size=.8, batch_size=1, \n",
    "        dropout=False, dropoutRate=.5):\n",
    "        # model architecture\n",
    "        self.lr = lr\n",
    "        self.numepochs = numepochs\n",
    "        self.model = Classifier2dModel(data.shape[1], out, depth, _params, dropout, dropoutRate)\n",
    "        # loss and labeling function\n",
    "        if out == 1:\n",
    "            self.lossfun = nn.BCEWithLogitsLoss() \n",
    "            self.labelfun = lambda preds: preds > 0\n",
    "            # self.lossfun = nn.BCELoss() \n",
    "            # self.labelfun = lambda preds: preds > .5\n",
    "            \n",
    "        else:\n",
    "            self.lossfun = nn.CrossEntropyLoss()\n",
    "            self.labelfun = lambda preds: torch.argmax(preds, axis=1)\n",
    "        # optimizer\n",
    "        self.optimizer = torch.optim.SGD(self.model.parameters(), lr=.01)\n",
    "        self.trainaccs = torch.zeros(numepochs)\n",
    "        self.testaccs = torch.zeros(numepochs)\n",
    "\n",
    "        trainData, testData, trainLabels, testLabels = train_test_split(\n",
    "            data, labels, train_size=train_size)\n",
    "\n",
    "        trainData = TensorDataset(torch.tensor(\n",
    "            trainData), torch.tensor(trainLabels))\n",
    "        testData = TensorDataset(torch.tensor(\n",
    "            testData), torch.tensor(testLabels))\n",
    "\n",
    "        self.numOfBatches = len(trainLabels) // batch_size\n",
    "        self.trainLoader = DataLoader(trainData, batch_size=batch_size)\n",
    "        self.testLoader = DataLoader(testData, batch_size=len(testLabels))\n",
    "\n",
    "    def train(self):\n",
    "        # initialize losses\n",
    "        self.losses = torch.zeros(self.numepochs)\n",
    "        for epochi in range(self.numepochs):\n",
    "            batchacc = torch.zeros(self.numOfBatches)\n",
    "            batchloss = torch.zeros(self.numOfBatches)\n",
    "            batchIter = 0\n",
    "            self.model.train()\n",
    "            for X, y in self.trainLoader:\n",
    "                # forward pass\n",
    "                yHat = self.model(X)\n",
    "\n",
    "                # compute loss\n",
    "                loss = self.lossfun(yHat, y)\n",
    "                batchloss[batchIter] = loss\n",
    "\n",
    "                # backprop\n",
    "                self.optimizer.zero_grad()\n",
    "                loss.backward()\n",
    "                self.optimizer.step()\n",
    "                batchacc[batchIter] = self.getAcc(yHat, y)\n",
    "                batchIter += 1\n",
    "\n",
    "            self.losses[epochi] = torch.mean(batchloss)\n",
    "            # compute accuracy\n",
    "            self.trainaccs[epochi] = torch.mean(batchacc)\n",
    "\n",
    "            X, y = next(iter(self.testLoader))\n",
    "            self.testaccs[epochi] = self.eval(X, y)\n",
    "        return self.trainaccs, self.testaccs, self.losses\n",
    "\n",
    "    def split(self, data, labels, partitions):\n",
    "        \"\"\" partitions: order is train,devset,test. It can be either a list of 2 or 3 elements \"\"\"\n",
    "        # split the data (note the third input, and the TMP in the variable name)\n",
    "        train_data, testTMP_data, train_labels, testTMP_labels = train_test_split(data, labels, train_size=partitions[0])\n",
    "\n",
    "        # now split the TMP data\n",
    "        split = partitions[1] / (1-partitions[0])\n",
    "        devset_data, test_data, devset_labels, test_labels = train_test_split(testTMP_data, testTMP_labels, train_size=split)\n",
    "        return train_data, devset_data, test_data, train_labels, devset_labels, test_labels\n",
    "\n",
    "    def getAcc(self, preds, labels):\n",
    "        return 100*torch.mean((self.labelfun(preds) == labels).float())\n",
    "\n",
    "    def eval(self, data, labels):\n",
    "        self.model.eval()\n",
    "        with torch.inference_mode():\n",
    "            # final forward pass\n",
    "            self.predictions = self.model(data)\n",
    "            self.totalacc = self.getAcc(self.predictions, labels)\n",
    "            return self.totalacc\n",
    "\n",
    "    def print(self):\n",
    "        for name, param in self.model.named_parameters():\n",
    "            print(name, param.shape)\n",
    "\n",
    "    def load(self, path):\n",
    "        self.model.load_state_dict(torch.load(path))\n",
    "\n",
    "    def save(self, path):\n",
    "        torch.save(self.model.state_dict(), path)"
   ]
  },
  {
   "cell_type": "code",
   "execution_count": 7,
   "metadata": {},
   "outputs": [],
   "source": [
    "from types import NoneType\n",
    "\n",
    "\n",
    "def factorsList(N):\n",
    "    arr = torch.arange(1,N+1)\n",
    "    return arr[N % arr == 0]\n",
    "\n",
    "def analyze(*args, **kwargs):\n",
    "    numepochs = kwargs[\"numepochs\"] if \"numepochs\" in kwargs.keys() else 500\n",
    "    k = None\n",
    "    v = None\n",
    "    for _k,_v in kwargs.items():\n",
    "        if type(_v) not in [int,float,NoneType]:\n",
    "            k = _k\n",
    "            v = _v\n",
    "    if k==None or v ==None:\n",
    "        raise Exception(\"k or v is None\")\n",
    "    trainaccs = torch.zeros(len(v), numepochs)\n",
    "    testaccs = torch.zeros(len(v), numepochs)\n",
    "    losses = torch.zeros(len(v), numepochs)\n",
    "\n",
    "    for j, _v in enumerate(v):\n",
    "        if type(_v) == torch.Tensor:\n",
    "            _v = _v.item()\n",
    "        kwargs[k] = _v\n",
    "        classifier = Classifier2d(*args, **kwargs)\n",
    "        trainaccs[j, :], testaccs[j, :], losses[j, :] = classifier.train()\n",
    "    return trainaccs, testaccs, losses, k, v\n",
    "def test(*args, **kwargs):\n",
    "    times = kwargs[\"times\"]\n",
    "    del kwargs[\"times\"]\n",
    "    trainaccs = torch.zeros(times)\n",
    "    testaccs  = torch.zeros(times)\n",
    "    losses = torch.zeros(times)\n",
    "    for t in range(times):\n",
    "        classifier = Classifier2d(*args, **kwargs)\n",
    "        trainaccstmp, testaccstmp, lossestmp = classifier.train()\n",
    "        trainaccs[t] = trainaccstmp[-1]\n",
    "        testaccs[t] = testaccstmp[-1]\n",
    "        losses[t] = lossestmp[-1]\n",
    "    trainaccavg = torch.mean(trainaccs)\n",
    "    testaccavg = torch.mean(testaccs)\n",
    "    lossavg = torch.mean(losses)\n",
    "    print(f\"trainacc: {trainaccavg}, testacc: {testaccavg}, loss: {lossavg}\")"
   ]
  },
  {
   "cell_type": "code",
   "execution_count": 8,
   "metadata": {},
   "outputs": [],
   "source": [
    "def plot2d(trainaccs, testaccs, v):\n",
    "    numepochs = trainaccs.shape[1]\n",
    "    fig, ax = plt.subplots(1, 2, figsize=(13, 5))\n",
    "\n",
    "    ax[0].imshow(trainaccs, aspect='auto', origin=\"lower\",\n",
    "                 vmin=50, vmax=90, extent=[0, numepochs, v[0], v[-1]])\n",
    "    ax[0].set_xlabel('Epochs')\n",
    "    ax[0].set_ylabel('Batch size')\n",
    "    ax[0].set_title('Training accuracy')\n",
    "\n",
    "    p = ax[1].imshow(testaccs, aspect='auto', origin=\"lower\",\n",
    "                     vmin=50, vmax=90, extent=[0, numepochs, v[0], v[-1]])\n",
    "    ax[1].set_xlabel('Epochs')\n",
    "    ax[1].set_ylabel('Batch size')\n",
    "    ax[1].set_title('Test accuracy')\n",
    "    fig.colorbar(p, ax=ax[1])\n",
    "\n",
    "    plt.show()\n",
    "def plot(losses, v):\n",
    "    plt.plot(losses.T.detach())\n",
    "    plt.legend(v)\n",
    "    plt.show()"
   ]
  },
  {
   "cell_type": "code",
   "execution_count": 9,
   "metadata": {},
   "outputs": [],
   "source": [
    "def getmax(accs):\n",
    "    amax = int(accs.argmax())\n",
    "    x = amax % accs.shape[1]\n",
    "    y = amax // accs.shape[1]\n",
    "    return y, x"
   ]
  },
  {
   "cell_type": "code",
   "execution_count": 10,
   "metadata": {},
   "outputs": [
    {
     "name": "stderr",
     "output_type": "stream",
     "text": [
      "/tmp/ipykernel_2988/2359277550.py:30: UserWarning: To copy construct from a tensor, it is recommended to use sourceTensor.clone().detach() or sourceTensor.clone().detach().requires_grad_(True), rather than torch.tensor(sourceTensor).\n",
      "  trainData = TensorDataset(torch.tensor(\n",
      "/tmp/ipykernel_2988/2359277550.py:31: UserWarning: To copy construct from a tensor, it is recommended to use sourceTensor.clone().detach() or sourceTensor.clone().detach().requires_grad_(True), rather than torch.tensor(sourceTensor).\n",
      "  trainData), torch.tensor(trainLabels))\n",
      "/tmp/ipykernel_2988/2359277550.py:32: UserWarning: To copy construct from a tensor, it is recommended to use sourceTensor.clone().detach() or sourceTensor.clone().detach().requires_grad_(True), rather than torch.tensor(sourceTensor).\n",
      "  testData = TensorDataset(torch.tensor(\n",
      "/tmp/ipykernel_2988/2359277550.py:33: UserWarning: To copy construct from a tensor, it is recommended to use sourceTensor.clone().detach() or sourceTensor.clone().detach().requires_grad_(True), rather than torch.tensor(sourceTensor).\n",
      "  testData), torch.tensor(testLabels))\n"
     ]
    },
    {
     "name": "stdout",
     "output_type": "stream",
     "text": [
      "trainacc: 87.95275115966797, testacc: 83.04347229003906, loss: 0.25914835929870605\n"
     ]
    }
   ],
   "source": [
    "test(data,labels, times = 10, depth=4, _params=30, train_size=.85, lr=1.6667, dropout=False, dropoutRate=.2222)"
   ]
  },
  {
   "cell_type": "code",
   "execution_count": 11,
   "metadata": {},
   "outputs": [
    {
     "name": "stderr",
     "output_type": "stream",
     "text": [
      "/tmp/ipykernel_2988/2359277550.py:30: UserWarning: To copy construct from a tensor, it is recommended to use sourceTensor.clone().detach() or sourceTensor.clone().detach().requires_grad_(True), rather than torch.tensor(sourceTensor).\n",
      "  trainData = TensorDataset(torch.tensor(\n",
      "/tmp/ipykernel_2988/2359277550.py:31: UserWarning: To copy construct from a tensor, it is recommended to use sourceTensor.clone().detach() or sourceTensor.clone().detach().requires_grad_(True), rather than torch.tensor(sourceTensor).\n",
      "  trainData), torch.tensor(trainLabels))\n",
      "/tmp/ipykernel_2988/2359277550.py:32: UserWarning: To copy construct from a tensor, it is recommended to use sourceTensor.clone().detach() or sourceTensor.clone().detach().requires_grad_(True), rather than torch.tensor(sourceTensor).\n",
      "  testData = TensorDataset(torch.tensor(\n",
      "/tmp/ipykernel_2988/2359277550.py:33: UserWarning: To copy construct from a tensor, it is recommended to use sourceTensor.clone().detach() or sourceTensor.clone().detach().requires_grad_(True), rather than torch.tensor(sourceTensor).\n",
      "  testData), torch.tensor(testLabels))\n"
     ]
    },
    {
     "name": "stdout",
     "output_type": "stream",
     "text": [
      "trainacc: 87.95275115966797, testacc: 83.47825622558594, loss: 0.24974694848060608\n"
     ]
    }
   ],
   "source": [
    "test(data,labels, times = 10, depth=4, _params=30, train_size=.85, lr=1.6667, dropout=False, dropoutRate=.6667)"
   ]
  },
  {
   "cell_type": "code",
   "execution_count": 12,
   "metadata": {},
   "outputs": [
    {
     "name": "stderr",
     "output_type": "stream",
     "text": [
      "/tmp/ipykernel_2988/2359277550.py:30: UserWarning: To copy construct from a tensor, it is recommended to use sourceTensor.clone().detach() or sourceTensor.clone().detach().requires_grad_(True), rather than torch.tensor(sourceTensor).\n",
      "  trainData = TensorDataset(torch.tensor(\n",
      "/tmp/ipykernel_2988/2359277550.py:31: UserWarning: To copy construct from a tensor, it is recommended to use sourceTensor.clone().detach() or sourceTensor.clone().detach().requires_grad_(True), rather than torch.tensor(sourceTensor).\n",
      "  trainData), torch.tensor(trainLabels))\n",
      "/tmp/ipykernel_2988/2359277550.py:32: UserWarning: To copy construct from a tensor, it is recommended to use sourceTensor.clone().detach() or sourceTensor.clone().detach().requires_grad_(True), rather than torch.tensor(sourceTensor).\n",
      "  testData = TensorDataset(torch.tensor(\n",
      "/tmp/ipykernel_2988/2359277550.py:33: UserWarning: To copy construct from a tensor, it is recommended to use sourceTensor.clone().detach() or sourceTensor.clone().detach().requires_grad_(True), rather than torch.tensor(sourceTensor).\n",
      "  testData), torch.tensor(testLabels))\n"
     ]
    },
    {
     "name": "stdout",
     "output_type": "stream",
     "text": [
      "trainacc: 88.5039291381836, testacc: 86.52174377441406, loss: 0.24534878134727478\n"
     ]
    }
   ],
   "source": [
    "test(data,labels, times = 10, depth=4, _params=30, train_size=.85, lr=1.6667)"
   ]
  },
  {
   "cell_type": "code",
   "execution_count": null,
   "metadata": {},
   "outputs": [],
   "source": [
    "trainaccs, testaccs, losses, k, v = analyze(data,labels, depth=4, _params=30, train_size=.85, lr=1.6667, dropout=False, dropoutRate=torch.linspace(0,1,10))"
   ]
  },
  {
   "cell_type": "code",
   "execution_count": null,
   "metadata": {},
   "outputs": [],
   "source": [
    "plot(losses, v)"
   ]
  },
  {
   "cell_type": "code",
   "execution_count": null,
   "metadata": {},
   "outputs": [],
   "source": [
    "plot(trainaccs, v)"
   ]
  },
  {
   "cell_type": "code",
   "execution_count": null,
   "metadata": {},
   "outputs": [],
   "source": [
    "plot(testaccs, v)"
   ]
  },
  {
   "cell_type": "code",
   "execution_count": null,
   "metadata": {},
   "outputs": [],
   "source": [
    "plot2d(trainaccs, testaccs, v)"
   ]
  }
 ],
 "metadata": {
  "kernelspec": {
   "display_name": "Python 3.10.7 ('datascience')",
   "language": "python",
   "name": "python3"
  },
  "language_info": {
   "codemirror_mode": {
    "name": "ipython",
    "version": 3
   },
   "file_extension": ".py",
   "mimetype": "text/x-python",
   "name": "python",
   "nbconvert_exporter": "python",
   "pygments_lexer": "ipython3",
   "version": "3.10.7"
  },
  "orig_nbformat": 4,
  "vscode": {
   "interpreter": {
    "hash": "35e756a73fced7604de0846138dbd2729bf77c54ea1471d9ad302cb6526e59eb"
   }
  }
 },
 "nbformat": 4,
 "nbformat_minor": 2
}
